{
 "cells": [
  {
   "cell_type": "code",
   "execution_count": 3,
   "id": "97685dbd",
   "metadata": {},
   "outputs": [],
   "source": [
    "import pandas as pd"
   ]
  },
  {
   "cell_type": "code",
   "execution_count": 4,
   "id": "c27423e0",
   "metadata": {},
   "outputs": [
    {
     "data": {
      "text/html": [
       "<div>\n",
       "<style scoped>\n",
       "    .dataframe tbody tr th:only-of-type {\n",
       "        vertical-align: middle;\n",
       "    }\n",
       "\n",
       "    .dataframe tbody tr th {\n",
       "        vertical-align: top;\n",
       "    }\n",
       "\n",
       "    .dataframe thead th {\n",
       "        text-align: right;\n",
       "    }\n",
       "</style>\n",
       "<table border=\"1\" class=\"dataframe\">\n",
       "  <thead>\n",
       "    <tr style=\"text-align: right;\">\n",
       "      <th></th>\n",
       "      <th>Start (s)</th>\n",
       "      <th>Stop (s)</th>\n",
       "      <th>t queda (s)</th>\n",
       "    </tr>\n",
       "  </thead>\n",
       "  <tbody>\n",
       "    <tr>\n",
       "      <th>0</th>\n",
       "      <td>0.222195</td>\n",
       "      <td>1.095313</td>\n",
       "      <td>0.969448</td>\n",
       "    </tr>\n",
       "    <tr>\n",
       "      <th>1</th>\n",
       "      <td>0.062443</td>\n",
       "      <td>1.094615</td>\n",
       "      <td>0.983061</td>\n",
       "    </tr>\n",
       "    <tr>\n",
       "      <th>2</th>\n",
       "      <td>-0.031275</td>\n",
       "      <td>1.111995</td>\n",
       "      <td>0.979104</td>\n",
       "    </tr>\n",
       "    <tr>\n",
       "      <th>3</th>\n",
       "      <td>-0.221362</td>\n",
       "      <td>1.053880</td>\n",
       "      <td>0.975254</td>\n",
       "    </tr>\n",
       "    <tr>\n",
       "      <th>4</th>\n",
       "      <td>0.031454</td>\n",
       "      <td>1.024715</td>\n",
       "      <td>0.977670</td>\n",
       "    </tr>\n",
       "    <tr>\n",
       "      <th>5</th>\n",
       "      <td>-0.063808</td>\n",
       "      <td>1.196177</td>\n",
       "      <td>1.013618</td>\n",
       "    </tr>\n",
       "    <tr>\n",
       "      <th>6</th>\n",
       "      <td>-0.064091</td>\n",
       "      <td>1.089770</td>\n",
       "      <td>0.997795</td>\n",
       "    </tr>\n",
       "    <tr>\n",
       "      <th>7</th>\n",
       "      <td>0.095304</td>\n",
       "      <td>1.024234</td>\n",
       "      <td>0.977199</td>\n",
       "    </tr>\n",
       "    <tr>\n",
       "      <th>8</th>\n",
       "      <td>-0.112994</td>\n",
       "      <td>1.069248</td>\n",
       "      <td>0.975470</td>\n",
       "    </tr>\n",
       "    <tr>\n",
       "      <th>9</th>\n",
       "      <td>-0.128929</td>\n",
       "      <td>0.994609</td>\n",
       "      <td>0.963056</td>\n",
       "    </tr>\n",
       "    <tr>\n",
       "      <th>10</th>\n",
       "      <td>-0.111951</td>\n",
       "      <td>0.963010</td>\n",
       "      <td>0.963010</td>\n",
       "    </tr>\n",
       "    <tr>\n",
       "      <th>11</th>\n",
       "      <td>-0.015557</td>\n",
       "      <td>1.088215</td>\n",
       "      <td>0.993914</td>\n",
       "    </tr>\n",
       "    <tr>\n",
       "      <th>12</th>\n",
       "      <td>-0.299270</td>\n",
       "      <td>1.085798</td>\n",
       "      <td>0.974865</td>\n",
       "    </tr>\n",
       "    <tr>\n",
       "      <th>13</th>\n",
       "      <td>-0.143203</td>\n",
       "      <td>1.036202</td>\n",
       "      <td>0.989364</td>\n",
       "    </tr>\n",
       "    <tr>\n",
       "      <th>14</th>\n",
       "      <td>0.031240</td>\n",
       "      <td>1.199896</td>\n",
       "      <td>0.979587</td>\n",
       "    </tr>\n",
       "    <tr>\n",
       "      <th>15</th>\n",
       "      <td>0.094541</td>\n",
       "      <td>1.079942</td>\n",
       "      <td>0.984267</td>\n",
       "    </tr>\n",
       "    <tr>\n",
       "      <th>16</th>\n",
       "      <td>-0.348572</td>\n",
       "      <td>1.087430</td>\n",
       "      <td>0.977945</td>\n",
       "    </tr>\n",
       "    <tr>\n",
       "      <th>17</th>\n",
       "      <td>-0.095351</td>\n",
       "      <td>1.118692</td>\n",
       "      <td>0.976495</td>\n",
       "    </tr>\n",
       "    <tr>\n",
       "      <th>18</th>\n",
       "      <td>0.047415</td>\n",
       "      <td>1.039910</td>\n",
       "      <td>0.977204</td>\n",
       "    </tr>\n",
       "    <tr>\n",
       "      <th>19</th>\n",
       "      <td>0.031253</td>\n",
       "      <td>1.108255</td>\n",
       "      <td>0.981781</td>\n",
       "    </tr>\n",
       "    <tr>\n",
       "      <th>20</th>\n",
       "      <td>-0.096114</td>\n",
       "      <td>1.091564</td>\n",
       "      <td>0.981182</td>\n",
       "    </tr>\n",
       "    <tr>\n",
       "      <th>21</th>\n",
       "      <td>0.000000</td>\n",
       "      <td>1.092315</td>\n",
       "      <td>0.980770</td>\n",
       "    </tr>\n",
       "    <tr>\n",
       "      <th>22</th>\n",
       "      <td>0.172305</td>\n",
       "      <td>0.963542</td>\n",
       "      <td>0.994879</td>\n",
       "    </tr>\n",
       "    <tr>\n",
       "      <th>23</th>\n",
       "      <td>0.774631</td>\n",
       "      <td>1.142005</td>\n",
       "      <td>0.935488</td>\n",
       "    </tr>\n",
       "    <tr>\n",
       "      <th>24</th>\n",
       "      <td>0.238444</td>\n",
       "      <td>0.999125</td>\n",
       "      <td>0.983548</td>\n",
       "    </tr>\n",
       "    <tr>\n",
       "      <th>25</th>\n",
       "      <td>-0.065264</td>\n",
       "      <td>0.975049</td>\n",
       "      <td>0.975049</td>\n",
       "    </tr>\n",
       "    <tr>\n",
       "      <th>26</th>\n",
       "      <td>-0.031137</td>\n",
       "      <td>1.117156</td>\n",
       "      <td>1.005425</td>\n",
       "    </tr>\n",
       "    <tr>\n",
       "      <th>27</th>\n",
       "      <td>0.031281</td>\n",
       "      <td>1.040159</td>\n",
       "      <td>0.992351</td>\n",
       "    </tr>\n",
       "    <tr>\n",
       "      <th>28</th>\n",
       "      <td>-0.170479</td>\n",
       "      <td>0.913715</td>\n",
       "      <td>1.011389</td>\n",
       "    </tr>\n",
       "    <tr>\n",
       "      <th>29</th>\n",
       "      <td>0.018641</td>\n",
       "      <td>1.142000</td>\n",
       "      <td>0.983249</td>\n",
       "    </tr>\n",
       "  </tbody>\n",
       "</table>\n",
       "</div>"
      ],
      "text/plain": [
       "    Start (s)  Stop (s)  t queda (s)\n",
       "0    0.222195  1.095313     0.969448\n",
       "1    0.062443  1.094615     0.983061\n",
       "2   -0.031275  1.111995     0.979104\n",
       "3   -0.221362  1.053880     0.975254\n",
       "4    0.031454  1.024715     0.977670\n",
       "5   -0.063808  1.196177     1.013618\n",
       "6   -0.064091  1.089770     0.997795\n",
       "7    0.095304  1.024234     0.977199\n",
       "8   -0.112994  1.069248     0.975470\n",
       "9   -0.128929  0.994609     0.963056\n",
       "10  -0.111951  0.963010     0.963010\n",
       "11  -0.015557  1.088215     0.993914\n",
       "12  -0.299270  1.085798     0.974865\n",
       "13  -0.143203  1.036202     0.989364\n",
       "14   0.031240  1.199896     0.979587\n",
       "15   0.094541  1.079942     0.984267\n",
       "16  -0.348572  1.087430     0.977945\n",
       "17  -0.095351  1.118692     0.976495\n",
       "18   0.047415  1.039910     0.977204\n",
       "19   0.031253  1.108255     0.981781\n",
       "20  -0.096114  1.091564     0.981182\n",
       "21   0.000000  1.092315     0.980770\n",
       "22   0.172305  0.963542     0.994879\n",
       "23   0.774631  1.142005     0.935488\n",
       "24   0.238444  0.999125     0.983548\n",
       "25  -0.065264  0.975049     0.975049\n",
       "26  -0.031137  1.117156     1.005425\n",
       "27   0.031281  1.040159     0.992351\n",
       "28  -0.170479  0.913715     1.011389\n",
       "29   0.018641  1.142000     0.983249"
      ]
     },
     "execution_count": 4,
     "metadata": {},
     "output_type": "execute_result"
    }
   ],
   "source": [
    "df=pd.read_csv('output.txt' , sep = '\\t')\n",
    "df.head(31)"
   ]
  },
  {
   "cell_type": "code",
   "execution_count": 5,
   "id": "af2559bf",
   "metadata": {},
   "outputs": [
    {
     "data": {
      "text/html": [
       "<div>\n",
       "<style scoped>\n",
       "    .dataframe tbody tr th:only-of-type {\n",
       "        vertical-align: middle;\n",
       "    }\n",
       "\n",
       "    .dataframe tbody tr th {\n",
       "        vertical-align: top;\n",
       "    }\n",
       "\n",
       "    .dataframe thead th {\n",
       "        text-align: right;\n",
       "    }\n",
       "</style>\n",
       "<table border=\"1\" class=\"dataframe\">\n",
       "  <thead>\n",
       "    <tr style=\"text-align: right;\">\n",
       "      <th></th>\n",
       "      <th>Start (s)</th>\n",
       "      <th>Stop (s)</th>\n",
       "      <th>t queda (s)</th>\n",
       "      <th>Meu tempo</th>\n",
       "    </tr>\n",
       "  </thead>\n",
       "  <tbody>\n",
       "    <tr>\n",
       "      <th>0</th>\n",
       "      <td>0.222195</td>\n",
       "      <td>1.095313</td>\n",
       "      <td>0.969448</td>\n",
       "      <td>0.873118</td>\n",
       "    </tr>\n",
       "    <tr>\n",
       "      <th>1</th>\n",
       "      <td>0.062443</td>\n",
       "      <td>1.094615</td>\n",
       "      <td>0.983061</td>\n",
       "      <td>1.032172</td>\n",
       "    </tr>\n",
       "    <tr>\n",
       "      <th>2</th>\n",
       "      <td>-0.031275</td>\n",
       "      <td>1.111995</td>\n",
       "      <td>0.979104</td>\n",
       "      <td>1.143270</td>\n",
       "    </tr>\n",
       "    <tr>\n",
       "      <th>3</th>\n",
       "      <td>-0.221362</td>\n",
       "      <td>1.053880</td>\n",
       "      <td>0.975254</td>\n",
       "      <td>1.275242</td>\n",
       "    </tr>\n",
       "    <tr>\n",
       "      <th>4</th>\n",
       "      <td>0.031454</td>\n",
       "      <td>1.024715</td>\n",
       "      <td>0.977670</td>\n",
       "      <td>0.993261</td>\n",
       "    </tr>\n",
       "    <tr>\n",
       "      <th>5</th>\n",
       "      <td>-0.063808</td>\n",
       "      <td>1.196177</td>\n",
       "      <td>1.013618</td>\n",
       "      <td>1.259985</td>\n",
       "    </tr>\n",
       "    <tr>\n",
       "      <th>6</th>\n",
       "      <td>-0.064091</td>\n",
       "      <td>1.089770</td>\n",
       "      <td>0.997795</td>\n",
       "      <td>1.153861</td>\n",
       "    </tr>\n",
       "    <tr>\n",
       "      <th>7</th>\n",
       "      <td>0.095304</td>\n",
       "      <td>1.024234</td>\n",
       "      <td>0.977199</td>\n",
       "      <td>0.928931</td>\n",
       "    </tr>\n",
       "    <tr>\n",
       "      <th>8</th>\n",
       "      <td>-0.112994</td>\n",
       "      <td>1.069248</td>\n",
       "      <td>0.975470</td>\n",
       "      <td>1.182242</td>\n",
       "    </tr>\n",
       "    <tr>\n",
       "      <th>9</th>\n",
       "      <td>-0.128929</td>\n",
       "      <td>0.994609</td>\n",
       "      <td>0.963056</td>\n",
       "      <td>1.123538</td>\n",
       "    </tr>\n",
       "    <tr>\n",
       "      <th>10</th>\n",
       "      <td>-0.111951</td>\n",
       "      <td>0.963010</td>\n",
       "      <td>0.963010</td>\n",
       "      <td>1.074960</td>\n",
       "    </tr>\n",
       "    <tr>\n",
       "      <th>11</th>\n",
       "      <td>-0.015557</td>\n",
       "      <td>1.088215</td>\n",
       "      <td>0.993914</td>\n",
       "      <td>1.103772</td>\n",
       "    </tr>\n",
       "    <tr>\n",
       "      <th>12</th>\n",
       "      <td>-0.299270</td>\n",
       "      <td>1.085798</td>\n",
       "      <td>0.974865</td>\n",
       "      <td>1.385069</td>\n",
       "    </tr>\n",
       "    <tr>\n",
       "      <th>13</th>\n",
       "      <td>-0.143203</td>\n",
       "      <td>1.036202</td>\n",
       "      <td>0.989364</td>\n",
       "      <td>1.179405</td>\n",
       "    </tr>\n",
       "    <tr>\n",
       "      <th>14</th>\n",
       "      <td>0.031240</td>\n",
       "      <td>1.199896</td>\n",
       "      <td>0.979587</td>\n",
       "      <td>1.168656</td>\n",
       "    </tr>\n",
       "    <tr>\n",
       "      <th>15</th>\n",
       "      <td>0.094541</td>\n",
       "      <td>1.079942</td>\n",
       "      <td>0.984267</td>\n",
       "      <td>0.985401</td>\n",
       "    </tr>\n",
       "    <tr>\n",
       "      <th>16</th>\n",
       "      <td>-0.348572</td>\n",
       "      <td>1.087430</td>\n",
       "      <td>0.977945</td>\n",
       "      <td>1.436002</td>\n",
       "    </tr>\n",
       "    <tr>\n",
       "      <th>17</th>\n",
       "      <td>-0.095351</td>\n",
       "      <td>1.118692</td>\n",
       "      <td>0.976495</td>\n",
       "      <td>1.214043</td>\n",
       "    </tr>\n",
       "    <tr>\n",
       "      <th>18</th>\n",
       "      <td>0.047415</td>\n",
       "      <td>1.039910</td>\n",
       "      <td>0.977204</td>\n",
       "      <td>0.992495</td>\n",
       "    </tr>\n",
       "    <tr>\n",
       "      <th>19</th>\n",
       "      <td>0.031253</td>\n",
       "      <td>1.108255</td>\n",
       "      <td>0.981781</td>\n",
       "      <td>1.077002</td>\n",
       "    </tr>\n",
       "    <tr>\n",
       "      <th>20</th>\n",
       "      <td>-0.096114</td>\n",
       "      <td>1.091564</td>\n",
       "      <td>0.981182</td>\n",
       "      <td>1.187678</td>\n",
       "    </tr>\n",
       "    <tr>\n",
       "      <th>21</th>\n",
       "      <td>0.000000</td>\n",
       "      <td>1.092315</td>\n",
       "      <td>0.980770</td>\n",
       "      <td>1.092315</td>\n",
       "    </tr>\n",
       "    <tr>\n",
       "      <th>22</th>\n",
       "      <td>0.172305</td>\n",
       "      <td>0.963542</td>\n",
       "      <td>0.994879</td>\n",
       "      <td>0.791237</td>\n",
       "    </tr>\n",
       "    <tr>\n",
       "      <th>23</th>\n",
       "      <td>0.774631</td>\n",
       "      <td>1.142005</td>\n",
       "      <td>0.935488</td>\n",
       "      <td>0.367374</td>\n",
       "    </tr>\n",
       "    <tr>\n",
       "      <th>24</th>\n",
       "      <td>0.238444</td>\n",
       "      <td>0.999125</td>\n",
       "      <td>0.983548</td>\n",
       "      <td>0.760681</td>\n",
       "    </tr>\n",
       "    <tr>\n",
       "      <th>25</th>\n",
       "      <td>-0.065264</td>\n",
       "      <td>0.975049</td>\n",
       "      <td>0.975049</td>\n",
       "      <td>1.040313</td>\n",
       "    </tr>\n",
       "    <tr>\n",
       "      <th>26</th>\n",
       "      <td>-0.031137</td>\n",
       "      <td>1.117156</td>\n",
       "      <td>1.005425</td>\n",
       "      <td>1.148293</td>\n",
       "    </tr>\n",
       "    <tr>\n",
       "      <th>27</th>\n",
       "      <td>0.031281</td>\n",
       "      <td>1.040159</td>\n",
       "      <td>0.992351</td>\n",
       "      <td>1.008877</td>\n",
       "    </tr>\n",
       "    <tr>\n",
       "      <th>28</th>\n",
       "      <td>-0.170479</td>\n",
       "      <td>0.913715</td>\n",
       "      <td>1.011389</td>\n",
       "      <td>1.084194</td>\n",
       "    </tr>\n",
       "    <tr>\n",
       "      <th>29</th>\n",
       "      <td>0.018641</td>\n",
       "      <td>1.142000</td>\n",
       "      <td>0.983249</td>\n",
       "      <td>1.123359</td>\n",
       "    </tr>\n",
       "  </tbody>\n",
       "</table>\n",
       "</div>"
      ],
      "text/plain": [
       "    Start (s)  Stop (s)  t queda (s)  Meu tempo\n",
       "0    0.222195  1.095313     0.969448   0.873118\n",
       "1    0.062443  1.094615     0.983061   1.032172\n",
       "2   -0.031275  1.111995     0.979104   1.143270\n",
       "3   -0.221362  1.053880     0.975254   1.275242\n",
       "4    0.031454  1.024715     0.977670   0.993261\n",
       "5   -0.063808  1.196177     1.013618   1.259985\n",
       "6   -0.064091  1.089770     0.997795   1.153861\n",
       "7    0.095304  1.024234     0.977199   0.928931\n",
       "8   -0.112994  1.069248     0.975470   1.182242\n",
       "9   -0.128929  0.994609     0.963056   1.123538\n",
       "10  -0.111951  0.963010     0.963010   1.074960\n",
       "11  -0.015557  1.088215     0.993914   1.103772\n",
       "12  -0.299270  1.085798     0.974865   1.385069\n",
       "13  -0.143203  1.036202     0.989364   1.179405\n",
       "14   0.031240  1.199896     0.979587   1.168656\n",
       "15   0.094541  1.079942     0.984267   0.985401\n",
       "16  -0.348572  1.087430     0.977945   1.436002\n",
       "17  -0.095351  1.118692     0.976495   1.214043\n",
       "18   0.047415  1.039910     0.977204   0.992495\n",
       "19   0.031253  1.108255     0.981781   1.077002\n",
       "20  -0.096114  1.091564     0.981182   1.187678\n",
       "21   0.000000  1.092315     0.980770   1.092315\n",
       "22   0.172305  0.963542     0.994879   0.791237\n",
       "23   0.774631  1.142005     0.935488   0.367374\n",
       "24   0.238444  0.999125     0.983548   0.760681\n",
       "25  -0.065264  0.975049     0.975049   1.040313\n",
       "26  -0.031137  1.117156     1.005425   1.148293\n",
       "27   0.031281  1.040159     0.992351   1.008877\n",
       "28  -0.170479  0.913715     1.011389   1.084194\n",
       "29   0.018641  1.142000     0.983249   1.123359"
      ]
     },
     "execution_count": 5,
     "metadata": {},
     "output_type": "execute_result"
    }
   ],
   "source": [
    "df['Meu tempo']=df['Stop (s)']-df['Start (s)']\n",
    "df.head(31)\n"
   ]
  },
  {
   "cell_type": "code",
   "execution_count": 8,
   "id": "bb42d1b7",
   "metadata": {},
   "outputs": [
    {
     "data": {
      "text/plain": [
       "-0.004940334955851237"
      ]
     },
     "execution_count": 8,
     "metadata": {},
     "output_type": "execute_result"
    }
   ],
   "source": [
    "df['Start (s)'].mean()\n"
   ]
  },
  {
   "cell_type": "code",
   "execution_count": 9,
   "id": "9810bb0a",
   "metadata": {},
   "outputs": [
    {
     "data": {
      "text/plain": [
       "0.19897930904381866"
      ]
     },
     "execution_count": 9,
     "metadata": {},
     "output_type": "execute_result"
    }
   ],
   "source": [
    "df['Start (s)'].std()"
   ]
  },
  {
   "cell_type": "code",
   "execution_count": 12,
   "id": "7674cd02",
   "metadata": {},
   "outputs": [
    {
     "data": {
      "text/plain": [
       "0.03632848534669706"
      ]
     },
     "execution_count": 12,
     "metadata": {},
     "output_type": "execute_result"
    }
   ],
   "source": [
    "df['Start (s)'].std() / (30**(1 / 2))"
   ]
  },
  {
   "cell_type": "code",
   "execution_count": 10,
   "id": "4ed5b673",
   "metadata": {},
   "outputs": [
    {
     "data": {
      "text/plain": [
       "1.067951242129008"
      ]
     },
     "execution_count": 10,
     "metadata": {},
     "output_type": "execute_result"
    }
   ],
   "source": [
    "df['Stop (s)'].mean()"
   ]
  },
  {
   "cell_type": "code",
   "execution_count": 11,
   "id": "3b6b972b",
   "metadata": {},
   "outputs": [
    {
     "data": {
      "text/plain": [
       "0.06662144530487493"
      ]
     },
     "execution_count": 11,
     "metadata": {},
     "output_type": "execute_result"
    }
   ],
   "source": [
    "df['Stop (s)'].std()"
   ]
  },
  {
   "cell_type": "code",
   "execution_count": 13,
   "id": "286dee16",
   "metadata": {},
   "outputs": [
    {
     "data": {
      "text/plain": [
       "0.012163356135692213"
      ]
     },
     "execution_count": 13,
     "metadata": {},
     "output_type": "execute_result"
    }
   ],
   "source": [
    "df['Stop (s)'].std()/ (30**(1 / 2))"
   ]
  },
  {
   "cell_type": "code",
   "execution_count": 14,
   "id": "128011f7",
   "metadata": {},
   "outputs": [
    {
     "data": {
      "text/plain": [
       "0.98178129196167"
      ]
     },
     "execution_count": 14,
     "metadata": {},
     "output_type": "execute_result"
    }
   ],
   "source": [
    "df['t queda (s)'].mean()"
   ]
  },
  {
   "cell_type": "code",
   "execution_count": 15,
   "id": "d7eb9e17",
   "metadata": {},
   "outputs": [
    {
     "data": {
      "text/plain": [
       "0.014965887336524236"
      ]
     },
     "execution_count": 15,
     "metadata": {},
     "output_type": "execute_result"
    }
   ],
   "source": [
    "df['t queda (s)'].std()"
   ]
  },
  {
   "cell_type": "code",
   "execution_count": 16,
   "id": "1bb99982",
   "metadata": {},
   "outputs": [
    {
     "data": {
      "text/plain": [
       "0.0027323846957650775"
      ]
     },
     "execution_count": 16,
     "metadata": {},
     "output_type": "execute_result"
    }
   ],
   "source": [
    "df['t queda (s)'].std()/ (30**(1 / 2))"
   ]
  },
  {
   "cell_type": "code",
   "execution_count": 17,
   "id": "9dbd4da6",
   "metadata": {},
   "outputs": [
    {
     "data": {
      "text/plain": [
       "1.0728915770848593"
      ]
     },
     "execution_count": 17,
     "metadata": {},
     "output_type": "execute_result"
    }
   ],
   "source": [
    "df['Meu tempo'].mean()"
   ]
  },
  {
   "cell_type": "code",
   "execution_count": 18,
   "id": "e26ac523",
   "metadata": {},
   "outputs": [
    {
     "data": {
      "text/plain": [
       "0.19974837145533364"
      ]
     },
     "execution_count": 18,
     "metadata": {},
     "output_type": "execute_result"
    }
   ],
   "source": [
    "df['Meu tempo'].std()"
   ]
  },
  {
   "cell_type": "code",
   "execution_count": 19,
   "id": "09a851d1",
   "metadata": {},
   "outputs": [
    {
     "data": {
      "text/plain": [
       "0.036468896290335756"
      ]
     },
     "execution_count": 19,
     "metadata": {},
     "output_type": "execute_result"
    }
   ],
   "source": [
    "df['Meu tempo'].std()/ (30**(1 / 2))"
   ]
  },
  {
   "cell_type": "code",
   "execution_count": 20,
   "id": "0aec9696",
   "metadata": {},
   "outputs": [
    {
     "data": {
      "text/plain": [
       "0.09111028512318932"
      ]
     },
     "execution_count": 20,
     "metadata": {},
     "output_type": "execute_result"
    }
   ],
   "source": [
    "df['dif']=df['Meu tempo']-df['t queda (s)']\n",
    "df['dif'].mean()"
   ]
  },
  {
   "cell_type": "code",
   "execution_count": 21,
   "id": "cb3a57dd",
   "metadata": {},
   "outputs": [
    {
     "data": {
      "text/plain": [
       "0.19430400324985633"
      ]
     },
     "execution_count": 21,
     "metadata": {},
     "output_type": "execute_result"
    }
   ],
   "source": [
    "df['dif'].std()"
   ]
  },
  {
   "cell_type": "code",
   "execution_count": 22,
   "id": "465c57df",
   "metadata": {},
   "outputs": [
    {
     "data": {
      "text/plain": [
       "0.03547489519783447"
      ]
     },
     "execution_count": 22,
     "metadata": {},
     "output_type": "execute_result"
    }
   ],
   "source": [
    "df['dif'].std()/ (30**(1 / 2))"
   ]
  },
  {
   "cell_type": "code",
   "execution_count": 23,
   "id": "b36edb11",
   "metadata": {},
   "outputs": [
    {
     "data": {
      "text/html": [
       "<div>\n",
       "<style scoped>\n",
       "    .dataframe tbody tr th:only-of-type {\n",
       "        vertical-align: middle;\n",
       "    }\n",
       "\n",
       "    .dataframe tbody tr th {\n",
       "        vertical-align: top;\n",
       "    }\n",
       "\n",
       "    .dataframe thead th {\n",
       "        text-align: right;\n",
       "    }\n",
       "</style>\n",
       "<table border=\"1\" class=\"dataframe\">\n",
       "  <thead>\n",
       "    <tr style=\"text-align: right;\">\n",
       "      <th></th>\n",
       "      <th>Start (s)</th>\n",
       "      <th>Stop (s)</th>\n",
       "      <th>t queda (s)</th>\n",
       "      <th>Meu tempo</th>\n",
       "      <th>dif</th>\n",
       "      <th>dif2</th>\n",
       "    </tr>\n",
       "  </thead>\n",
       "  <tbody>\n",
       "    <tr>\n",
       "      <th>0</th>\n",
       "      <td>0.222195</td>\n",
       "      <td>1.095313</td>\n",
       "      <td>0.969448</td>\n",
       "      <td>0.873118</td>\n",
       "      <td>-0.096330</td>\n",
       "      <td>0.125865</td>\n",
       "    </tr>\n",
       "    <tr>\n",
       "      <th>1</th>\n",
       "      <td>0.062443</td>\n",
       "      <td>1.094615</td>\n",
       "      <td>0.983061</td>\n",
       "      <td>1.032172</td>\n",
       "      <td>0.049111</td>\n",
       "      <td>0.111554</td>\n",
       "    </tr>\n",
       "    <tr>\n",
       "      <th>2</th>\n",
       "      <td>-0.031275</td>\n",
       "      <td>1.111995</td>\n",
       "      <td>0.979104</td>\n",
       "      <td>1.143270</td>\n",
       "      <td>0.164166</td>\n",
       "      <td>0.132892</td>\n",
       "    </tr>\n",
       "    <tr>\n",
       "      <th>3</th>\n",
       "      <td>-0.221362</td>\n",
       "      <td>1.053880</td>\n",
       "      <td>0.975254</td>\n",
       "      <td>1.275242</td>\n",
       "      <td>0.299988</td>\n",
       "      <td>0.078626</td>\n",
       "    </tr>\n",
       "    <tr>\n",
       "      <th>4</th>\n",
       "      <td>0.031454</td>\n",
       "      <td>1.024715</td>\n",
       "      <td>0.977670</td>\n",
       "      <td>0.993261</td>\n",
       "      <td>0.015590</td>\n",
       "      <td>0.047045</td>\n",
       "    </tr>\n",
       "    <tr>\n",
       "      <th>5</th>\n",
       "      <td>-0.063808</td>\n",
       "      <td>1.196177</td>\n",
       "      <td>1.013618</td>\n",
       "      <td>1.259985</td>\n",
       "      <td>0.246367</td>\n",
       "      <td>0.182559</td>\n",
       "    </tr>\n",
       "    <tr>\n",
       "      <th>6</th>\n",
       "      <td>-0.064091</td>\n",
       "      <td>1.089770</td>\n",
       "      <td>0.997795</td>\n",
       "      <td>1.153861</td>\n",
       "      <td>0.156066</td>\n",
       "      <td>0.091975</td>\n",
       "    </tr>\n",
       "    <tr>\n",
       "      <th>7</th>\n",
       "      <td>0.095304</td>\n",
       "      <td>1.024234</td>\n",
       "      <td>0.977199</td>\n",
       "      <td>0.928931</td>\n",
       "      <td>-0.048268</td>\n",
       "      <td>0.047036</td>\n",
       "    </tr>\n",
       "    <tr>\n",
       "      <th>8</th>\n",
       "      <td>-0.112994</td>\n",
       "      <td>1.069248</td>\n",
       "      <td>0.975470</td>\n",
       "      <td>1.182242</td>\n",
       "      <td>0.206772</td>\n",
       "      <td>0.093778</td>\n",
       "    </tr>\n",
       "    <tr>\n",
       "      <th>9</th>\n",
       "      <td>-0.128929</td>\n",
       "      <td>0.994609</td>\n",
       "      <td>0.963056</td>\n",
       "      <td>1.123538</td>\n",
       "      <td>0.160482</td>\n",
       "      <td>0.031553</td>\n",
       "    </tr>\n",
       "    <tr>\n",
       "      <th>10</th>\n",
       "      <td>-0.111951</td>\n",
       "      <td>0.963010</td>\n",
       "      <td>0.963010</td>\n",
       "      <td>1.074960</td>\n",
       "      <td>0.111951</td>\n",
       "      <td>0.000000</td>\n",
       "    </tr>\n",
       "    <tr>\n",
       "      <th>11</th>\n",
       "      <td>-0.015557</td>\n",
       "      <td>1.088215</td>\n",
       "      <td>0.993914</td>\n",
       "      <td>1.103772</td>\n",
       "      <td>0.109858</td>\n",
       "      <td>0.094301</td>\n",
       "    </tr>\n",
       "    <tr>\n",
       "      <th>12</th>\n",
       "      <td>-0.299270</td>\n",
       "      <td>1.085798</td>\n",
       "      <td>0.974865</td>\n",
       "      <td>1.385069</td>\n",
       "      <td>0.410203</td>\n",
       "      <td>0.110933</td>\n",
       "    </tr>\n",
       "    <tr>\n",
       "      <th>13</th>\n",
       "      <td>-0.143203</td>\n",
       "      <td>1.036202</td>\n",
       "      <td>0.989364</td>\n",
       "      <td>1.179405</td>\n",
       "      <td>0.190041</td>\n",
       "      <td>0.046838</td>\n",
       "    </tr>\n",
       "    <tr>\n",
       "      <th>14</th>\n",
       "      <td>0.031240</td>\n",
       "      <td>1.199896</td>\n",
       "      <td>0.979587</td>\n",
       "      <td>1.168656</td>\n",
       "      <td>0.189069</td>\n",
       "      <td>0.220309</td>\n",
       "    </tr>\n",
       "    <tr>\n",
       "      <th>15</th>\n",
       "      <td>0.094541</td>\n",
       "      <td>1.079942</td>\n",
       "      <td>0.984267</td>\n",
       "      <td>0.985401</td>\n",
       "      <td>0.001135</td>\n",
       "      <td>0.095676</td>\n",
       "    </tr>\n",
       "    <tr>\n",
       "      <th>16</th>\n",
       "      <td>-0.348572</td>\n",
       "      <td>1.087430</td>\n",
       "      <td>0.977945</td>\n",
       "      <td>1.436002</td>\n",
       "      <td>0.458056</td>\n",
       "      <td>0.109484</td>\n",
       "    </tr>\n",
       "    <tr>\n",
       "      <th>17</th>\n",
       "      <td>-0.095351</td>\n",
       "      <td>1.118692</td>\n",
       "      <td>0.976495</td>\n",
       "      <td>1.214043</td>\n",
       "      <td>0.237548</td>\n",
       "      <td>0.142197</td>\n",
       "    </tr>\n",
       "    <tr>\n",
       "      <th>18</th>\n",
       "      <td>0.047415</td>\n",
       "      <td>1.039910</td>\n",
       "      <td>0.977204</td>\n",
       "      <td>0.992495</td>\n",
       "      <td>0.015291</td>\n",
       "      <td>0.062706</td>\n",
       "    </tr>\n",
       "    <tr>\n",
       "      <th>19</th>\n",
       "      <td>0.031253</td>\n",
       "      <td>1.108255</td>\n",
       "      <td>0.981781</td>\n",
       "      <td>1.077002</td>\n",
       "      <td>0.095221</td>\n",
       "      <td>0.126474</td>\n",
       "    </tr>\n",
       "    <tr>\n",
       "      <th>20</th>\n",
       "      <td>-0.096114</td>\n",
       "      <td>1.091564</td>\n",
       "      <td>0.981182</td>\n",
       "      <td>1.187678</td>\n",
       "      <td>0.206496</td>\n",
       "      <td>0.110382</td>\n",
       "    </tr>\n",
       "    <tr>\n",
       "      <th>21</th>\n",
       "      <td>0.000000</td>\n",
       "      <td>1.092315</td>\n",
       "      <td>0.980770</td>\n",
       "      <td>1.092315</td>\n",
       "      <td>0.111545</td>\n",
       "      <td>0.111545</td>\n",
       "    </tr>\n",
       "    <tr>\n",
       "      <th>22</th>\n",
       "      <td>0.172305</td>\n",
       "      <td>0.963542</td>\n",
       "      <td>0.994879</td>\n",
       "      <td>0.791237</td>\n",
       "      <td>-0.203642</td>\n",
       "      <td>-0.031337</td>\n",
       "    </tr>\n",
       "    <tr>\n",
       "      <th>23</th>\n",
       "      <td>0.774631</td>\n",
       "      <td>1.142005</td>\n",
       "      <td>0.935488</td>\n",
       "      <td>0.367374</td>\n",
       "      <td>-0.568114</td>\n",
       "      <td>0.206517</td>\n",
       "    </tr>\n",
       "    <tr>\n",
       "      <th>24</th>\n",
       "      <td>0.238444</td>\n",
       "      <td>0.999125</td>\n",
       "      <td>0.983548</td>\n",
       "      <td>0.760681</td>\n",
       "      <td>-0.222867</td>\n",
       "      <td>0.015577</td>\n",
       "    </tr>\n",
       "    <tr>\n",
       "      <th>25</th>\n",
       "      <td>-0.065264</td>\n",
       "      <td>0.975049</td>\n",
       "      <td>0.975049</td>\n",
       "      <td>1.040313</td>\n",
       "      <td>0.065264</td>\n",
       "      <td>0.000000</td>\n",
       "    </tr>\n",
       "    <tr>\n",
       "      <th>26</th>\n",
       "      <td>-0.031137</td>\n",
       "      <td>1.117156</td>\n",
       "      <td>1.005425</td>\n",
       "      <td>1.148293</td>\n",
       "      <td>0.142867</td>\n",
       "      <td>0.111730</td>\n",
       "    </tr>\n",
       "    <tr>\n",
       "      <th>27</th>\n",
       "      <td>0.031281</td>\n",
       "      <td>1.040159</td>\n",
       "      <td>0.992351</td>\n",
       "      <td>1.008877</td>\n",
       "      <td>0.016527</td>\n",
       "      <td>0.047808</td>\n",
       "    </tr>\n",
       "    <tr>\n",
       "      <th>28</th>\n",
       "      <td>-0.170479</td>\n",
       "      <td>0.913715</td>\n",
       "      <td>1.011389</td>\n",
       "      <td>1.084194</td>\n",
       "      <td>0.072805</td>\n",
       "      <td>-0.097674</td>\n",
       "    </tr>\n",
       "    <tr>\n",
       "      <th>29</th>\n",
       "      <td>0.018641</td>\n",
       "      <td>1.142000</td>\n",
       "      <td>0.983249</td>\n",
       "      <td>1.123359</td>\n",
       "      <td>0.140110</td>\n",
       "      <td>0.158750</td>\n",
       "    </tr>\n",
       "  </tbody>\n",
       "</table>\n",
       "</div>"
      ],
      "text/plain": [
       "    Start (s)  Stop (s)  t queda (s)  Meu tempo       dif      dif2\n",
       "0    0.222195  1.095313     0.969448   0.873118 -0.096330  0.125865\n",
       "1    0.062443  1.094615     0.983061   1.032172  0.049111  0.111554\n",
       "2   -0.031275  1.111995     0.979104   1.143270  0.164166  0.132892\n",
       "3   -0.221362  1.053880     0.975254   1.275242  0.299988  0.078626\n",
       "4    0.031454  1.024715     0.977670   0.993261  0.015590  0.047045\n",
       "5   -0.063808  1.196177     1.013618   1.259985  0.246367  0.182559\n",
       "6   -0.064091  1.089770     0.997795   1.153861  0.156066  0.091975\n",
       "7    0.095304  1.024234     0.977199   0.928931 -0.048268  0.047036\n",
       "8   -0.112994  1.069248     0.975470   1.182242  0.206772  0.093778\n",
       "9   -0.128929  0.994609     0.963056   1.123538  0.160482  0.031553\n",
       "10  -0.111951  0.963010     0.963010   1.074960  0.111951  0.000000\n",
       "11  -0.015557  1.088215     0.993914   1.103772  0.109858  0.094301\n",
       "12  -0.299270  1.085798     0.974865   1.385069  0.410203  0.110933\n",
       "13  -0.143203  1.036202     0.989364   1.179405  0.190041  0.046838\n",
       "14   0.031240  1.199896     0.979587   1.168656  0.189069  0.220309\n",
       "15   0.094541  1.079942     0.984267   0.985401  0.001135  0.095676\n",
       "16  -0.348572  1.087430     0.977945   1.436002  0.458056  0.109484\n",
       "17  -0.095351  1.118692     0.976495   1.214043  0.237548  0.142197\n",
       "18   0.047415  1.039910     0.977204   0.992495  0.015291  0.062706\n",
       "19   0.031253  1.108255     0.981781   1.077002  0.095221  0.126474\n",
       "20  -0.096114  1.091564     0.981182   1.187678  0.206496  0.110382\n",
       "21   0.000000  1.092315     0.980770   1.092315  0.111545  0.111545\n",
       "22   0.172305  0.963542     0.994879   0.791237 -0.203642 -0.031337\n",
       "23   0.774631  1.142005     0.935488   0.367374 -0.568114  0.206517\n",
       "24   0.238444  0.999125     0.983548   0.760681 -0.222867  0.015577\n",
       "25  -0.065264  0.975049     0.975049   1.040313  0.065264  0.000000\n",
       "26  -0.031137  1.117156     1.005425   1.148293  0.142867  0.111730\n",
       "27   0.031281  1.040159     0.992351   1.008877  0.016527  0.047808\n",
       "28  -0.170479  0.913715     1.011389   1.084194  0.072805 -0.097674\n",
       "29   0.018641  1.142000     0.983249   1.123359  0.140110  0.158750"
      ]
     },
     "execution_count": 23,
     "metadata": {},
     "output_type": "execute_result"
    }
   ],
   "source": [
    "df['dif2']=df['Stop (s)']-df['t queda (s)']\n",
    "df.head(30)"
   ]
  },
  {
   "cell_type": "code",
   "execution_count": 24,
   "id": "01b2734e",
   "metadata": {},
   "outputs": [
    {
     "data": {
      "text/plain": [
       "0.08616995016733808"
      ]
     },
     "execution_count": 24,
     "metadata": {},
     "output_type": "execute_result"
    }
   ],
   "source": [
    "df['dif2'].mean()"
   ]
  },
  {
   "cell_type": "code",
   "execution_count": 25,
   "id": "6e1b21d5",
   "metadata": {},
   "outputs": [
    {
     "data": {
      "text/plain": [
       "0.06863239080240316"
      ]
     },
     "execution_count": 25,
     "metadata": {},
     "output_type": "execute_result"
    }
   ],
   "source": [
    "df['dif2'].std()"
   ]
  },
  {
   "cell_type": "code",
   "execution_count": 26,
   "id": "97d1a762",
   "metadata": {},
   "outputs": [
    {
     "data": {
      "text/plain": [
       "0.0125305028726621"
      ]
     },
     "execution_count": 26,
     "metadata": {},
     "output_type": "execute_result"
    }
   ],
   "source": [
    "df['dif2'].std()/ (30**(1 / 2))"
   ]
  },
  {
   "cell_type": "code",
   "execution_count": null,
   "id": "4af7b73c",
   "metadata": {},
   "outputs": [],
   "source": []
  }
 ],
 "metadata": {
  "celltoolbar": "Attachments",
  "kernelspec": {
   "display_name": "Python 3 (ipykernel)",
   "language": "python",
   "name": "python3"
  },
  "language_info": {
   "codemirror_mode": {
    "name": "ipython",
    "version": 3
   },
   "file_extension": ".py",
   "mimetype": "text/x-python",
   "name": "python",
   "nbconvert_exporter": "python",
   "pygments_lexer": "ipython3",
   "version": "3.9.12"
  }
 },
 "nbformat": 4,
 "nbformat_minor": 5
}
